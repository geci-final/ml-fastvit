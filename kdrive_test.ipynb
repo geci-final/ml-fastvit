{
 "cells": [
  {
   "cell_type": "code",
   "execution_count": 1,
   "metadata": {},
   "outputs": [
    {
     "name": "stderr",
     "output_type": "stream",
     "text": [
      "d:\\anaconda3\\envs\\knk-autonomous\\lib\\site-packages\\tqdm\\auto.py:21: TqdmWarning: IProgress not found. Please update jupyter and ipywidgets. See https://ipywidgets.readthedocs.io/en/stable/user_install.html\n",
      "  from .autonotebook import tqdm as notebook_tqdm\n"
     ]
    },
    {
     "name": "stdout",
     "output_type": "stream",
     "text": [
      "If for semantic segmentation, please install mmsegmentation first\n",
      "If for detection, please install mmdetection first\n"
     ]
    },
    {
     "name": "stderr",
     "output_type": "stream",
     "text": [
      "d:\\final year project\\knk-autonomous\\knk_drive\\ml-fastvit\\models\\fastvit.py:957: UserWarning: Overwriting fastvit_t8 in registry with models.fastvit.fastvit_t8. This is because the name being registered conflicts with an existing name. Please check if this is not expected.\n",
      "  def fastvit_t8(pretrained=False, **kwargs):\n",
      "d:\\final year project\\knk-autonomous\\knk_drive\\ml-fastvit\\models\\fastvit.py:979: UserWarning: Overwriting fastvit_t12 in registry with models.fastvit.fastvit_t12. This is because the name being registered conflicts with an existing name. Please check if this is not expected.\n",
      "  def fastvit_t12(pretrained=False, **kwargs):\n",
      "d:\\final year project\\knk-autonomous\\knk_drive\\ml-fastvit\\models\\fastvit.py:1001: UserWarning: Overwriting fastvit_s12 in registry with models.fastvit.fastvit_s12. This is because the name being registered conflicts with an existing name. Please check if this is not expected.\n",
      "  def fastvit_s12(pretrained=False, **kwargs):\n",
      "d:\\final year project\\knk-autonomous\\knk_drive\\ml-fastvit\\models\\fastvit.py:1023: UserWarning: Overwriting fastvit_sa12 in registry with models.fastvit.fastvit_sa12. This is because the name being registered conflicts with an existing name. Please check if this is not expected.\n",
      "  def fastvit_sa12(pretrained=False, **kwargs):\n",
      "d:\\final year project\\knk-autonomous\\knk_drive\\ml-fastvit\\models\\fastvit.py:1047: UserWarning: Overwriting fastvit_sa24 in registry with models.fastvit.fastvit_sa24. This is because the name being registered conflicts with an existing name. Please check if this is not expected.\n",
      "  def fastvit_sa24(pretrained=False, **kwargs):\n",
      "d:\\final year project\\knk-autonomous\\knk_drive\\ml-fastvit\\models\\fastvit.py:1071: UserWarning: Overwriting fastvit_sa36 in registry with models.fastvit.fastvit_sa36. This is because the name being registered conflicts with an existing name. Please check if this is not expected.\n",
      "  def fastvit_sa36(pretrained=False, **kwargs):\n",
      "d:\\final year project\\knk-autonomous\\knk_drive\\ml-fastvit\\models\\fastvit.py:1096: UserWarning: Overwriting fastvit_ma36 in registry with models.fastvit.fastvit_ma36. This is because the name being registered conflicts with an existing name. Please check if this is not expected.\n",
      "  def fastvit_ma36(pretrained=False, **kwargs):\n"
     ]
    }
   ],
   "source": [
    "from kdrive_model import KDriveModel\n",
    "import torch"
   ]
  },
  {
   "cell_type": "code",
   "execution_count": 2,
   "metadata": {},
   "outputs": [],
   "source": [
    "drive_model=KDriveModel()"
   ]
  },
  {
   "cell_type": "code",
   "execution_count": 4,
   "metadata": {},
   "outputs": [
    {
     "data": {
      "text/plain": [
       "tensor([[ 0.4933,  0.1897, -0.1087]], grad_fn=<AddmmBackward0>)"
      ]
     },
     "execution_count": 4,
     "metadata": {},
     "output_type": "execute_result"
    }
   ],
   "source": [
    "img=torch.randn(1,3,224,224)\n",
    "extra_args=torch.randn(1,3)\n",
    "out=drive_model(img,extra_args)\n",
    "out"
   ]
  }
 ],
 "metadata": {
  "kernelspec": {
   "display_name": "knk-autonomous",
   "language": "python",
   "name": "python3"
  },
  "language_info": {
   "codemirror_mode": {
    "name": "ipython",
    "version": 3
   },
   "file_extension": ".py",
   "mimetype": "text/x-python",
   "name": "python",
   "nbconvert_exporter": "python",
   "pygments_lexer": "ipython3",
   "version": "3.8.18"
  }
 },
 "nbformat": 4,
 "nbformat_minor": 2
}
